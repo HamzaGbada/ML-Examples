{
  "nbformat": 4,
  "nbformat_minor": 0,
  "metadata": {
    "colab": {
      "name": "ML-examples.ipynb",
      "provenance": [],
      "collapsed_sections": [],
      "authorship_tag": "ABX9TyOS2dYE8xmRu5amm2sCYRkB",
      "include_colab_link": true
    },
    "kernelspec": {
      "name": "python3",
      "display_name": "Python 3"
    },
    "language_info": {
      "name": "python"
    }
  },
  "cells": [
    {
      "cell_type": "markdown",
      "metadata": {
        "id": "view-in-github",
        "colab_type": "text"
      },
      "source": [
        "<a href=\"https://colab.research.google.com/github/HamzaGbada/ML-Examples/blob/main/ML_examples.ipynb\" target=\"_parent\"><img src=\"https://colab.research.google.com/assets/colab-badge.svg\" alt=\"Open In Colab\"/></a>"
      ]
    },
    {
      "cell_type": "markdown",
      "metadata": {
        "id": "_bWUw7jd1l_z"
      },
      "source": [
        "https://machinelearningmastery.com/semi-supervised-learning-with-label-propagation/\n",
        "\n",
        "https://www.kaggle.com/sz8416/6-ways-for-feature-selection\n",
        "\n",
        "https://towardsdatascience.com/pca-using-python-scikit-learn-e653f8989e60\n",
        "\n",
        "https://www.analyticsvidhya.com/blog/2021/04/k-means-clustering-simplified-in-python/\n",
        "\n",
        "https://towardsdatascience.com/support-vector-machine-python-example-d67d9b63f1c8\n",
        "\n",
        "https://www.datacamp.com/community/tutorials/svm-classification-scikit-learn-python\n",
        "\n",
        "https://www.datacamp.com/community/tutorials/understanding-logistic-regression-python\n",
        "\n",
        "https://www.analyticsvidhya.com/blog/2021/05/multiple-linear-regression-using-python-and-scikit-learn/\n",
        "\n",
        "https://machinelearningmastery.com/k-fold-cross-validation/\n",
        "\n",
        "https://www.kaggle.com/cdeotte/modified-naive-bayes-santander-0-899\n"
      ]
    },
    {
      "cell_type": "markdown",
      "metadata": {
        "id": "rjG1i1_DFdug"
      },
      "source": [
        "#Feature Selection and Feature Extraction"
      ]
    },
    {
      "cell_type": "markdown",
      "metadata": {
        "id": "kHVFH5lLy90Q"
      },
      "source": [
        "##Feature Selection"
      ]
    },
    {
      "cell_type": "markdown",
      "metadata": {
        "id": "AElM6E6IBZ0U"
      },
      "source": [
        "For feature selection we will use Univariate Statistical Tests"
      ]
    },
    {
      "cell_type": "code",
      "metadata": {
        "id": "goaruJYiy8Yq"
      },
      "source": [
        "import numpy as np\n",
        "from pandas import read_csv\n",
        "from numpy import set_printoptions\n",
        "from sklearn.feature_selection import SelectKBest\n",
        "from sklearn.feature_selection import f_classif"
      ],
      "execution_count": null,
      "outputs": []
    },
    {
      "cell_type": "markdown",
      "metadata": {
        "id": "m5bdSRMJ_-KK"
      },
      "source": [
        "# Implementing SVM with Scikit-Learn\n"
      ]
    },
    {
      "cell_type": "markdown",
      "metadata": {
        "id": "fbDfbdmZB0aU"
      },
      "source": [
        "## Importing libraires\n",
        "\n",
        "\n"
      ]
    },
    {
      "cell_type": "code",
      "metadata": {
        "id": "K81mHd7I_8vv"
      },
      "source": [
        "import numpy as np\n",
        "from sklearn.model_selection import KFold, cross_val_score\n",
        "from sklearn.metrics import accuracy_score\n",
        "from sklearn.svm import SVC\n",
        "from sklearn.datasets import make_classification\n",
        "from sklearn.model_selection import train_test_split"
      ],
      "execution_count": null,
      "outputs": []
    },
    {
      "cell_type": "markdown",
      "metadata": {
        "id": "0ARnMISvEjOm"
      },
      "source": [
        "## Prepare the dataset"
      ]
    },
    {
      "cell_type": "code",
      "metadata": {
        "id": "Xd4fwnq8DfYC"
      },
      "source": [
        "X, y = make_classification(n_samples=1000, n_features=2, n_informative=2, n_redundant=0, random_state=1)\n",
        "X_train, X_test, y_train, y_test = train_test_split(X, y, test_size=0.20)"
      ],
      "execution_count": null,
      "outputs": []
    },
    {
      "cell_type": "markdown",
      "metadata": {
        "id": "Zl75OICqE8i1"
      },
      "source": [
        "## Prepare our model and apply k-fold cross validation"
      ]
    },
    {
      "cell_type": "code",
      "metadata": {
        "colab": {
          "base_uri": "https://localhost:8080/"
        },
        "id": "QP4Hgpk-_8UP",
        "outputId": "30f168da-928f-4227-cc01-7050980c1135"
      },
      "source": [
        "k = 5\n",
        "kf = KFold(n_splits=k, random_state=None)\n",
        "model_svm = SVC(kernel='linear')\n",
        "acc_score = []\n",
        "print(y_train.shape)\n",
        "for train_index , test_index in kf.split(X_train):\n",
        "    X_train_kf , X_test_kf = X_train[train_index,:],X_train[test_index,:]\n",
        "    y_train_kf , y_test_kf = y_train[train_index] , y_train[test_index]\n",
        "     \n",
        "    model_svm.fit(X_train_kf,y_train_kf)\n",
        "    pred_values = model_svm.predict(X_test_kf)\n",
        "     \n",
        "    acc = accuracy_score(pred_values , y_test_kf)\n",
        "    acc_score.append(acc)\n",
        "\n",
        "avg_acc_score = sum(acc_score)/k\n",
        "print('accuracy of each fold - {}'.format(acc_score))\n",
        "print('Avg accuracy : {}'.format(avg_acc_score))"
      ],
      "execution_count": null,
      "outputs": [
        {
          "output_type": "stream",
          "name": "stdout",
          "text": [
            "(800,)\n",
            "accuracy of each fold - [0.86875, 0.8625, 0.80625, 0.8375, 0.8375]\n",
            "Avg accuracy : 0.8425\n"
          ]
        }
      ]
    },
    {
      "cell_type": "markdown",
      "metadata": {
        "id": "7vr5l8T92wAP"
      },
      "source": [
        "#K-mean Clustering"
      ]
    },
    {
      "cell_type": "markdown",
      "metadata": {
        "id": "MzBiuLYI22gL"
      },
      "source": [
        "## Importing libraires"
      ]
    },
    {
      "cell_type": "code",
      "metadata": {
        "id": "_dEFjTh63D_V"
      },
      "source": [
        "import numpy as np\n",
        "import matplotlib.pyplot as plt\n",
        "from sklearn.cluster import KMeans\n",
        "from sklearn.datasets import make_classification"
      ],
      "execution_count": null,
      "outputs": []
    },
    {
      "cell_type": "markdown",
      "metadata": {
        "id": "qJEprC9a6ceO"
      },
      "source": [
        "Prepare the dataset"
      ]
    },
    {
      "cell_type": "code",
      "metadata": {
        "id": "J5nsBmwd21ox"
      },
      "source": [
        "X, y = make_classification(n_samples=1000, n_features=2, n_informative=2, n_redundant=0, random_state=1, n_classes=2)"
      ],
      "execution_count": null,
      "outputs": []
    },
    {
      "cell_type": "markdown",
      "metadata": {
        "id": "MDV580CN2v3N"
      },
      "source": [
        "define the model for clustring"
      ]
    },
    {
      "cell_type": "code",
      "metadata": {
        "id": "Yniuyy_F6ihO"
      },
      "source": [
        "model_clustering = KMeans(n_clusters=2)\n",
        "model_clustering.fit(X)\n",
        "y_pred = model_clustering.predict(X)"
      ],
      "execution_count": null,
      "outputs": []
    },
    {
      "cell_type": "markdown",
      "metadata": {
        "id": "J8ji3hdL6xRM"
      },
      "source": [
        "Plot samples for each cluster"
      ]
    },
    {
      "cell_type": "code",
      "metadata": {
        "colab": {
          "base_uri": "https://localhost:8080/",
          "height": 268
        },
        "id": "N93-DXUd6w0u",
        "outputId": "36fc8d37-60de-4324-baf8-927669c05235"
      },
      "source": [
        "clusters = np.unique(y_pred)\n",
        "for i in clusters:\n",
        "\tindex = np.where(y_pred == i)\n",
        "\tplt.scatter(X[index, 0], X[index, 1])\n",
        "plt.show()"
      ],
      "execution_count": null,
      "outputs": [
        {
          "output_type": "display_data",
          "data": {
            "image/png": "[encoded data removed]",
            "text/plain": [
              "<Figure size 432x288 with 1 Axes>"
            ]
          },
          "metadata": {}
        }
      ]
    },
    {
      "cell_type": "markdown",
      "metadata": {
        "id": "fikBz8GlZre6"
      },
      "source": [
        "# Semi-Supervised Learning"
      ]
    },
    {
      "cell_type": "markdown",
      "metadata": {
        "id": "2pqkfq9tq85-"
      },
      "source": [
        "## Importing libraries"
      ]
    },
    {
      "cell_type": "code",
      "metadata": {
        "id": "w2SA7vgVq8Ju"
      },
      "source": [
        "import numpy as np\n",
        "from sklearn.datasets import make_classification\n",
        "from sklearn.model_selection import train_test_split\n",
        "from sklearn.linear_model import LogisticRegression\n",
        "from sklearn.metrics import accuracy_score\n",
        "from sklearn.semi_supervised import LabelPropagation"
      ],
      "execution_count": null,
      "outputs": []
    },
    {
      "cell_type": "markdown",
      "metadata": {
        "id": "dgWxyMuJrQqc"
      },
      "source": [
        "## Define a dataset for a semi-supervised classfication\n",
        "We will define a dataset with two classes and split it equally. Then split train data into labeled and unlabeled."
      ]
    },
    {
      "cell_type": "code",
      "metadata": {
        "id": "J_65zHHxqzbp"
      },
      "source": [
        "X, y = make_classification(n_samples=1000, n_features=2, n_informative=2, n_redundant=0, random_state=1)\n",
        "X_train, X_test, y_train, y_test = train_test_split(X, y, test_size=0.50, random_state=1, stratify=y)\n",
        "X_train_lab, X_train_unlab, y_train_lab, y_test_unlab = train_test_split(X_train, y_train, test_size=0.50, random_state=1, stratify=y_train)"
      ],
      "execution_count": null,
      "outputs": []
    },
    {
      "cell_type": "markdown",
      "metadata": {
        "id": "DVxm_PRGne9b"
      },
      "source": [
        "Creating the training dataset input by concatenation of the labeled and unlabed data."
      ]
    },
    {
      "cell_type": "code",
      "metadata": {
        "id": "XziLcr5IneCR"
      },
      "source": [
        "X_train_mixed = np.concatenate((X_train_lab, X_train_unlab))"
      ],
      "execution_count": null,
      "outputs": []
    },
    {
      "cell_type": "markdown",
      "metadata": {
        "id": "DqwcDs4IoJWp"
      },
      "source": [
        "Create an non-label vector for unlabeled data."
      ]
    },
    {
      "cell_type": "code",
      "metadata": {
        "colab": {
          "base_uri": "https://localhost:8080/"
        },
        "id": "UZfs43mCoO6_",
        "outputId": "4e8bddff-1bdd-4849-cf04-f1febfd3ca9f"
      },
      "source": [
        "non_label = np.full(X_train_unlab.shape[0], -1)\n",
        "non_label.shape"
      ],
      "execution_count": null,
      "outputs": [
        {
          "output_type": "execute_result",
          "data": {
            "text/plain": [
              "(250,)"
            ]
          },
          "metadata": {},
          "execution_count": 47
        }
      ]
    },
    {
      "cell_type": "markdown",
      "metadata": {
        "id": "ZE-ix7IvqNEA"
      },
      "source": [
        "Concatenate training dataset labels"
      ]
    },
    {
      "cell_type": "code",
      "metadata": {
        "id": "FpcV9ymuqPvl"
      },
      "source": [
        "y_train_mixed = np.concatenate((y_train_lab, non_label))"
      ],
      "execution_count": null,
      "outputs": []
    },
    {
      "cell_type": "markdown",
      "metadata": {
        "id": "mZQMp5Qdt9Uk"
      },
      "source": [
        "## Labeling model definition"
      ]
    },
    {
      "cell_type": "markdown",
      "metadata": {
        "id": "0UXPUSaWqciE"
      },
      "source": [
        "Define the model for label the unlabeled data using Label Propagation Model, and fit it on the mixed training data."
      ]
    },
    {
      "cell_type": "code",
      "metadata": {
        "colab": {
          "base_uri": "https://localhost:8080/"
        },
        "id": "ZlZcVJJRqsJU",
        "outputId": "258f3bab-0602-4e15-b8ed-6eac7260364b"
      },
      "source": [
        "labeling_model = LabelPropagation()\n",
        "labeling_model.fit(X_train_mixed, y_train_mixed)"
      ],
      "execution_count": null,
      "outputs": [
        {
          "output_type": "execute_result",
          "data": {
            "text/plain": [
              "LabelPropagation(gamma=20, kernel='rbf', max_iter=1000, n_jobs=None,\n",
              "                 n_neighbors=7, tol=0.001)"
            ]
          },
          "metadata": {},
          "execution_count": 49
        }
      ]
    },
    {
      "cell_type": "markdown",
      "metadata": {
        "id": "eVfYld3trw9f"
      },
      "source": [
        "Get labels for entire training dataset data\n"
      ]
    },
    {
      "cell_type": "code",
      "metadata": {
        "colab": {
          "base_uri": "https://localhost:8080/"
        },
        "id": "cx_ejwbjr28j",
        "outputId": "d9f2d28b-cc1d-44bb-de7d-28c971f79fdc"
      },
      "source": [
        "new_labels = labeling_model.transduction_\n",
        "new_labels"
      ],
      "execution_count": null,
      "outputs": [
        {
          "output_type": "execute_result",
          "data": {
            "text/plain": [
              "(500,)"
            ]
          },
          "metadata": {},
          "execution_count": 52
        }
      ]
    },
    {
      "cell_type": "markdown",
      "metadata": {
        "id": "6WzQZGZquBa9"
      },
      "source": [
        "## Classification model definition"
      ]
    },
    {
      "cell_type": "markdown",
      "metadata": {
        "id": "EZAG3YS3bs08"
      },
      "source": [
        "Define our supervised learning model (Logistic Regression) for the classification and train it on all the dataset using the new labels, then compute the accuraty of it on using our test data."
      ]
    },
    {
      "cell_type": "code",
      "metadata": {
        "id": "zfYt-5yIoI5h",
        "colab": {
          "base_uri": "https://localhost:8080/"
        },
        "outputId": "dcbdaf24-05d2-4008-ca37-23d4745e9178"
      },
      "source": [
        "model_class = LogisticRegression()\n",
        "model.fit(X_train_mixed, new_labels)"
      ],
      "execution_count": null,
      "outputs": [
        {
          "output_type": "execute_result",
          "data": {
            "text/plain": [
              "LogisticRegression(C=1.0, class_weight=None, dual=False, fit_intercept=True,\n",
              "                   intercept_scaling=1, l1_ratio=None, max_iter=100,\n",
              "                   multi_class='auto', n_jobs=None, penalty='l2',\n",
              "                   random_state=None, solver='lbfgs', tol=0.0001, verbose=0,\n",
              "                   warm_start=False)"
            ]
          },
          "metadata": {},
          "execution_count": 55
        }
      ]
    },
    {
      "cell_type": "code",
      "metadata": {
        "colab": {
          "base_uri": "https://localhost:8080/"
        },
        "id": "9OsdNzSzdBFH",
        "outputId": "12f0d384-7905-4ba1-eec3-17dd231397a1"
      },
      "source": [
        "y_pred = model.predict(X_test)\n",
        "score = accuracy_score(y_test, y_pred)\n",
        "score"
      ],
      "execution_count": null,
      "outputs": [
        {
          "output_type": "execute_result",
          "data": {
            "text/plain": [
              "0.862"
            ]
          },
          "metadata": {},
          "execution_count": 56
        }
      ]
    }
  ]
}