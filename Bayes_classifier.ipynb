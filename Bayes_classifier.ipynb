{
  "nbformat": 4,
  "nbformat_minor": 0,
  "metadata": {
    "kernelspec": {
      "display_name": "Python 3",
      "language": "python",
      "name": "python3"
    },
    "language_info": {
      "codemirror_mode": {
        "name": "ipython",
        "version": 3
      },
      "file_extension": ".py",
      "mimetype": "text/x-python",
      "name": "python",
      "nbconvert_exporter": "python",
      "pygments_lexer": "ipython3",
      "version": "3.7.6"
    },
    "colab": {
      "name": "Bayes_classifier.ipynb",
      "provenance": [],
      "include_colab_link": true
    }
  },
  "cells": [
    {
      "cell_type": "markdown",
      "metadata": {
        "id": "view-in-github",
        "colab_type": "text"
      },
      "source": [
        "<a href=\"https://colab.research.google.com/github/HamzaGbada/ML-Examples/blob/main/Bayes_classifier.ipynb\" target=\"_parent\"><img src=\"https://colab.research.google.com/assets/colab-badge.svg\" alt=\"Open In Colab\"/></a>"
      ]
    },
    {
      "cell_type": "code",
      "metadata": {
        "id": "9r5kc3zkECBp"
      },
      "source": [
        "import numpy as np\n",
        "import pandas as pd\n",
        "import matplotlib.pyplot as plt\n",
        "import matplotlib\n",
        "import math\n",
        "import random\n",
        "from sklearn.model_selection import KFold\n",
        "from mpl_toolkits.axes_grid1.inset_locator import inset_axes\n",
        "\n",
        "df1 = pd.read_csv(\"train_data1.csv\") \n",
        "df2 = pd.read_csv(\"train_data2.csv\") \n",
        "df3 = pd.read_csv(\"train_data3.csv\") \n",
        "df1_test = pd.read_csv(\"train_data1.csv\")\n",
        "df2_test = pd.read_csv(\"train_data2.csv\") \n",
        "df3_test = pd.read_csv(\"train_data3.csv\")  "
      ],
      "execution_count": null,
      "outputs": []
    },
    {
      "cell_type": "code",
      "metadata": {
        "id": "151YT4CMNeLZ"
      },
      "source": [
        "df1_test_numpy = df1_test.values\n",
        "df2_test_numpy = df2_test.values\n",
        "df3_test_numpy = df3_test.values"
      ],
      "execution_count": null,
      "outputs": []
    },
    {
      "cell_type": "markdown",
      "metadata": {
        "id": "_cWWRGstECB7"
      },
      "source": [
        "# Displaying training sets"
      ]
    },
    {
      "cell_type": "code",
      "metadata": {
        "id": "rbLZJ_SvEqUc"
      },
      "source": [
        "# Extract data as numpy array:\n",
        "df1_numpy = df1.values\n",
        "df2_numpy = df2.values"
      ],
      "execution_count": null,
      "outputs": []
    },
    {
      "cell_type": "markdown",
      "source": [
        "Seperate each class from th first dataset\n",
        "\n",
        "\n"
      ],
      "metadata": {
        "id": "W32aTIu6JhHI"
      }
    },
    {
      "cell_type": "code",
      "metadata": {
        "id": "QObfVHuIE2Hs"
      },
      "source": [
        "# dataset1\n",
        "class1_data1 = df1_numpy[df1_numpy[:,2] == 1][:,0:2]\n",
        "class2_data1 = df1_numpy[df1_numpy[:,2] == 0][:,0:2]\n",
        "\n",
        "# dataset2\n",
        "class1_data2 = df2_numpy[df2_numpy[:,2] == 1][:,0:2]\n",
        "class2_data2 = df2_numpy[df2_numpy[:,2] == 0][:,0:2]"
      ],
      "execution_count": null,
      "outputs": []
    },
    {
      "cell_type": "markdown",
      "source": [
        "Compute the covariance matrix of each class"
      ],
      "metadata": {
        "id": "2xoplDSJJoSd"
      }
    },
    {
      "cell_type": "code",
      "metadata": {
        "id": "jP0PBzXPFKGO"
      },
      "source": [
        "# dataset 1\n",
        "class1_data1_cov = np.cov(class1_data1, rowvar = False)\n",
        "class2_data1_cov = np.cov(class2_data1, rowvar = False)\n",
        "\n",
        "# dataset 2\n",
        "class1_data2_cov = np.cov(class1_data2, rowvar = False)\n",
        "class2_data2_cov = np.cov(class1_data2, rowvar = False)\n"
      ],
      "execution_count": null,
      "outputs": []
    },
    {
      "cell_type": "markdown",
      "metadata": {
        "id": "qDuLgRY3GE4d"
      },
      "source": [
        "## Ploting covariance matrix for each class"
      ]
    },
    {
      "cell_type": "markdown",
      "metadata": {
        "id": "A9gfKvdCGOWH"
      },
      "source": [
        "Dataset1"
      ]
    },
    {
      "cell_type": "code",
      "metadata": {
        "colab": {
          "base_uri": "https://localhost:8080/",
          "height": 330
        },
        "id": "QRq5zLVnF6Pv",
        "outputId": "9850f427-f1a6-43ef-f50d-2c630b2b5571"
      },
      "source": [
        "alpha = ['x1', 'x2']\n",
        "fig, ax = plt.subplots(2, 2, constrained_layout=True)\n",
        "# dataset 1 class 1\n",
        "cax = ax[0, 0].matshow(class1_data1_cov,interpolation='nearest') \n",
        "fig.colorbar(cax, ax=ax[0, 0])\n",
        "ax[0, 0].set_xticklabels(['']+alpha)\n",
        "ax[0, 0].set_yticklabels(['']+alpha)\n",
        "ax[0, 0].set_title('dataset 1 class 1 \\n')\n",
        "\n",
        "# dataset 1 class 2\n",
        "cax = ax[0, 1].matshow(class2_data1_cov,interpolation='nearest') \n",
        "fig.colorbar(cax, ax=ax[0, 1])\n",
        "ax[0, 1].set_xticklabels(['']+alpha)\n",
        "ax[0, 1].set_yticklabels(['']+alpha)\n",
        "ax[0, 1].set_title('dataset 1 class 2 \\n')\n",
        "\n",
        "# dataset 2 class 1\n",
        "cax = ax[1, 0].matshow(class1_data2_cov,interpolation='nearest') \n",
        "fig.colorbar(cax, ax=ax[1, 0])\n",
        "ax[1, 0].set_xticklabels(['']+alpha)\n",
        "ax[1, 0].set_yticklabels(['']+alpha)\n",
        "ax[1, 0].set_title('dataset 2 class 1 \\n')\n",
        "\n",
        "# dataset 2 class 2\n",
        "\n",
        "cax = ax[1, 1].matshow(class2_data2_cov,interpolation='nearest')\n",
        "fig.colorbar(cax, ax=ax[1, 1])\n",
        "ax[1, 1].set_xticklabels(['']+alpha)\n",
        "ax[1, 1].set_yticklabels(['']+alpha)\n",
        "ax[1, 1].set_title('dataset 2 class 2 \\n')\n",
        "\n",
        "fig.suptitle('Covariances matrices of each in class in 2 dataset', fontsize=16)"
      ],
      "execution_count": null,
      "outputs": [
        {
          "output_type": "execute_result",
          "data": {
            "text/plain": [
              "Text(0.5, 0.98, 'Covariances matrices of each in class in 2 dataset')"
            ]
          },
          "metadata": {},
          "execution_count": 8
        },
        {
          "output_type": "display_data",
          "data": {
            "image/png": "[encoded data removed]",
            "text/plain": [
              "<Figure size 432x288 with 8 Axes>"
            ]
          },
          "metadata": {
            "needs_background": "light"
          }
        }
      ]
    },
    {
      "cell_type": "markdown",
      "metadata": {
        "id": "fPoaq1dhX2vV"
      },
      "source": [
        "**Interpretation**\n",
        "\n",
        "The non-diagonal elements of covariance matrix of the first dataset  are positive, we can see that x1 and x2 are postively correlated (if x1 increases x2 also increases.) ; but in the second dataset set they are négative so it means that they are negatively correlated (x1 increases x2 decreases.)"
      ]
    },
    {
      "cell_type": "markdown",
      "metadata": {
        "id": "DVmFGDqDIo-v"
      },
      "source": [
        "## Ploting features histograms"
      ]
    },
    {
      "cell_type": "code",
      "metadata": {
        "id": "cZ_qCWC_GlMY"
      },
      "source": [
        "feature1_class1 = class1_data1[:,0]\n",
        "feature1_class2 = class2_data1[:,0]\n",
        "\n",
        "feature2_class1 = class1_data1[:,1]\n",
        "feature2_class2 = class2_data1[:,1]\n",
        "\n",
        "feature1_class1 = class1_data2[:,0]\n",
        "feature1_class2 = class2_data2[:,0]\n",
        "\n",
        "feature2_class1 = class1_data2[:,1]\n",
        "feature2_class2 = class2_data2[:,1]"
      ],
      "execution_count": null,
      "outputs": []
    },
    {
      "cell_type": "markdown",
      "metadata": {
        "id": "3Htzo8NnJMmS"
      },
      "source": [
        "Ploting feature 1 for the dataset 1"
      ]
    },
    {
      "cell_type": "code",
      "metadata": {
        "colab": {
          "base_uri": "https://localhost:8080/",
          "height": 330
        },
        "id": "fi5K5lRGhfZo",
        "outputId": "59d80380-acdc-4ecb-95d2-3b620f71a4cb"
      },
      "source": [
        "fig, ax = plt.subplots(2, 2, constrained_layout=True)\n",
        "# dataset 1 feature 1\n",
        "cax = ax[0, 0].hist(feature1_class1, alpha=0.5, color= 'b')\n",
        "cax = ax[0, 0].hist(feature1_class2, alpha=0.5, color= 'r')\n",
        "\n",
        "ax[0, 0].set_title('dataset 1 feature 1\\n')\n",
        "\n",
        "# dataset 1 feature 2\n",
        "cax = ax[0, 1].hist(feature2_class1, alpha=0.5, color= 'b')\n",
        "cax = ax[0, 1].hist(feature2_class2, alpha=0.5, color= 'r')\n",
        "ax[0, 1].set_title('dataset 1 feature 2 \\n')\n",
        "\n",
        "# dataset 2 feature 1\n",
        "cax = ax[1, 0].hist(feature1_class1, alpha=0.5, color= 'b')\n",
        "cax = ax[1, 0].hist(feature1_class2, alpha=0.5, color= 'r')\n",
        "\n",
        "ax[1, 0].set_title('dataset 2 feature 1 \\n')\n",
        "\n",
        "# dataset 2 feature 2\n",
        "\n",
        "cax = ax[1, 1].hist(feature1_class1, alpha=0.5, color= 'b')\n",
        "cax = ax[1, 1].hist(feature1_class2, alpha=0.5, color= 'r')\n",
        "\n",
        "ax[1, 1].set_title('dataset 2 feature 2 \\n')\n",
        "\n",
        "fig.suptitle('Histograms for each feature (red for class 0 and blue for class 1)', fontsize=16)"
      ],
      "execution_count": null,
      "outputs": [
        {
          "output_type": "execute_result",
          "data": {
            "text/plain": [
              "Text(0.5, 0.98, 'Histograms for each feature (red for class 0 and blue for class 1)')"
            ]
          },
          "metadata": {},
          "execution_count": 10
        },
        {
          "output_type": "display_data",
          "data": {
            "image/png": "[encoded data removed]",
            "text/plain": [
              "<Figure size 432x288 with 4 Axes>"
            ]
          },
          "metadata": {
            "needs_background": "light"
          }
        }
      ]
    },
    {
      "cell_type": "markdown",
      "metadata": {
        "id": "4QpWpiKvmTgA"
      },
      "source": [
        "**Interpretation**\n",
        "\n",
        "The first feature of the dataset one have a similarity in term of mean and standard deviation, but in the second feature there's some difference between the two classes of the dataset in term of means. So, we can conclude, that there's fracture in the second feature between the two classes\n",
        "\n"
      ]
    },
    {
      "cell_type": "markdown",
      "metadata": {
        "id": "ni-uTEEYJ-mX"
      },
      "source": [
        "## Plot each training dataset (feature 1 on x-axis and feature 2 on y-axis)"
      ]
    },
    {
      "cell_type": "code",
      "metadata": {
        "colab": {
          "base_uri": "https://localhost:8080/",
          "height": 346
        },
        "id": "g_hgHO0jJk-R",
        "outputId": "33ae7458-239b-4ebf-93bd-df4782d479aa"
      },
      "source": [
        "feature1_data1 = df1_numpy[:,0]\n",
        "feature2_data1 = df1_numpy[:,1]\n",
        "feature1_data2 = df2_numpy[:,0]\n",
        "feature2_data2 = df2_numpy[:,1]\n",
        "\n",
        "plt.scatter(feature1_data1, feature2_data1, color=['r'])\n",
        "plt.scatter(feature1_data2, feature2_data2, color=['b'])\n",
        "plt.gca().set(title='Distribution of the datasets', xlabel='feature 1', ylabel='feature 2')"
      ],
      "execution_count": null,
      "outputs": [
        {
          "output_type": "execute_result",
          "data": {
            "text/plain": [
              "[Text(0, 0.5, 'feature 2'),\n",
              " Text(0.5, 0, 'feature 1'),\n",
              " Text(0.5, 1.0, 'Distribution of the datasets')]"
            ]
          },
          "metadata": {},
          "execution_count": 38
        },
        {
          "output_type": "display_data",
          "data": {
            "image/png": "[encoded data removed]",
            "text/plain": [
              "<Figure size 432x288 with 1 Axes>"
            ]
          },
          "metadata": {
            "needs_background": "light"
          }
        }
      ]
    },
    {
      "cell_type": "markdown",
      "metadata": {
        "id": "Pr8jW4GEsDJy"
      },
      "source": [
        "**Interpretation**\n",
        "\n",
        "In this plot, we can see clearly that the data is imbalanced\n",
        "\n"
      ]
    },
    {
      "cell_type": "markdown",
      "metadata": {
        "id": "qU2ikqpzKmAP"
      },
      "source": [
        "# An implementation of Bayes classifier and testing it using random single dataset"
      ]
    },
    {
      "cell_type": "code",
      "metadata": {
        "id": "1qBeIMjyKlls",
        "colab": {
          "base_uri": "https://localhost:8080/"
        },
        "outputId": "6196f53a-bf00-4239-fb27-5be1465cc627"
      },
      "source": [
        "mean_vector_c1 = np.mean(class1_data1, axis=0)\n",
        "print(mean_vector_c1)\n",
        "mean_vector_c2 = np.mean(class2_data1, axis=0)\n",
        "print(mean_vector_c2)"
      ],
      "execution_count": null,
      "outputs": [
        {
          "output_type": "stream",
          "name": "stdout",
          "text": [
            "[4.  4.8]\n",
            "[4.2 5.7]\n"
          ]
        }
      ]
    },
    {
      "cell_type": "code",
      "metadata": {
        "id": "4uo2j-HdPzkI",
        "colab": {
          "base_uri": "https://localhost:8080/"
        },
        "outputId": "75ed2d0a-f414-48ff-b67b-845fee612080"
      },
      "source": [
        "mean_vector_c1 = np.mean(class1_data2, axis=0)\n",
        "print(mean_vector_c1)\n",
        "mean_vector_c2 = np.mean(class2_data2, axis=0)\n",
        "print(mean_vector_c2)"
      ],
      "execution_count": null,
      "outputs": [
        {
          "output_type": "stream",
          "name": "stdout",
          "text": [
            "[1.667309   3.19949626]\n",
            "[-1.45232497  0.81279325]\n"
          ]
        }
      ]
    },
    {
      "cell_type": "code",
      "metadata": {
        "id": "ribR_qryKljO",
        "colab": {
          "base_uri": "https://localhost:8080/"
        },
        "outputId": "57660b4d-11a3-47fa-bf55-26736c1c7698"
      },
      "source": [
        "print(class1_data1_cov)\n",
        "print(class2_data1_cov)"
      ],
      "execution_count": null,
      "outputs": [
        {
          "output_type": "stream",
          "name": "stdout",
          "text": [
            "[[0.31090407 0.2108642 ]\n",
            " [0.2108642  0.40802121]]\n",
            "[[0.31090407 0.2108642 ]\n",
            " [0.2108642  0.40802121]]\n"
          ]
        }
      ]
    },
    {
      "cell_type": "code",
      "metadata": {
        "id": "l4sfZLoqK-pd",
        "colab": {
          "base_uri": "https://localhost:8080/"
        },
        "outputId": "7bd079e9-8323-4c55-ff93-893a03cca790"
      },
      "source": [
        "print(class1_data2_cov)\n",
        "print(class2_data2_cov)"
      ],
      "execution_count": null,
      "outputs": [
        {
          "output_type": "stream",
          "name": "stdout",
          "text": [
            "[[ 1.59535755 -0.03361042]\n",
            " [-0.03361042  0.3931518 ]]\n",
            "[[ 1.59535755 -0.03361042]\n",
            " [-0.03361042  0.3931518 ]]\n"
          ]
        }
      ]
    },
    {
      "cell_type": "code",
      "metadata": {
        "colab": {
          "base_uri": "https://localhost:8080/",
          "height": 330
        },
        "id": "ZZcpwAo0W5nN",
        "outputId": "383f19fd-067a-4117-e4cd-8934bbe1135a"
      },
      "source": [
        "alpha = ['x1', 'x2']\n",
        "fig, ax = plt.subplots(2, 2, constrained_layout=True)\n",
        "# dataset 1 class 1\n",
        "cax = ax[0, 0].matshow(class1_data1_cov,interpolation='nearest') \n",
        "fig.colorbar(cax, ax=ax[0, 0])\n",
        "ax[0, 0].set_xticklabels(['']+alpha)\n",
        "ax[0, 0].set_yticklabels(['']+alpha)\n",
        "ax[0, 0].set_title('dataset 1 class 1 \\n')\n",
        "\n",
        "# dataset 1 class 2\n",
        "cax = ax[0, 1].matshow(class2_data1_cov,interpolation='nearest') \n",
        "fig.colorbar(cax, ax=ax[0, 1])\n",
        "ax[0, 1].set_xticklabels(['']+alpha)\n",
        "ax[0, 1].set_yticklabels(['']+alpha)\n",
        "ax[0, 1].set_title('dataset 1 class 2 \\n')\n",
        "\n",
        "# dataset 2 class 1\n",
        "cax = ax[1, 0].matshow(class1_data2_cov,interpolation='nearest') \n",
        "fig.colorbar(cax, ax=ax[1, 0])\n",
        "ax[1, 0].set_xticklabels(['']+alpha)\n",
        "ax[1, 0].set_yticklabels(['']+alpha)\n",
        "ax[1, 0].set_title('dataset 2 class 1 \\n')\n",
        "\n",
        "# dataset 2 class 2\n",
        "\n",
        "cax = ax[1, 1].matshow(class2_data2_cov,interpolation='nearest')\n",
        "fig.colorbar(cax, ax=ax[1, 1])\n",
        "ax[1, 1].set_xticklabels(['']+alpha)\n",
        "ax[1, 1].set_yticklabels(['']+alpha)\n",
        "ax[1, 1].set_title('dataset 2 class 2 \\n')\n",
        "\n",
        "fig.suptitle('Covariances matrices of each in class in 2 dataset', fontsize=16)"
      ],
      "execution_count": null,
      "outputs": [
        {
          "output_type": "execute_result",
          "data": {
            "text/plain": [
              "Text(0.5, 0.98, 'Covariances matrices of each in class in 2 dataset')"
            ]
          },
          "metadata": {},
          "execution_count": 16
        },
        {
          "output_type": "display_data",
          "data": {
            "image/png": "[encoded data removed]",
            "text/plain": [
              "<Figure size 432x288 with 8 Axes>"
            ]
          },
          "metadata": {
            "needs_background": "light"
          }
        }
      ]
    },
    {
      "cell_type": "markdown",
      "source": [
        "## Implementation of the linear Bayes classifier"
      ],
      "metadata": {
        "id": "5TGS2VLwKYu2"
      }
    },
    {
      "cell_type": "code",
      "metadata": {
        "id": "XlqB9RXaLRJW"
      },
      "source": [
        "from numpy.linalg import inv, det, pinv\n",
        "\n",
        "def trainBayes(X):\n",
        "\n",
        "  \"\"\"\n",
        "  This function compute the coefficient of the discriminant function g_iX \n",
        "\n",
        "  params:\n",
        "    X: The train data (Samples and labels)\n",
        "  \n",
        "  return:\n",
        "    w_1, w_1_0, w_2, w_2_0 : If the covariances matrices are equals\n",
        "    W_1, w_1, w_1_0, W_2, w_2, w_2_0: If the covariances matrices are not equals\n",
        "\n",
        "  \"\"\"\n",
        "  class1 = X[X[:,2] == 1][:,0:2]\n",
        "  class2 = X[X[:,2] == 0][:,0:2]\n",
        "\n",
        "  class1_cov = np.cov(class1, rowvar = False)\n",
        "  class2_cov = np.cov(class2, rowvar = False)\n",
        "\n",
        "  mean_vector_c1 = np.mean(class1, axis=0)\n",
        "  mean_vector_c2 = np.mean(class2, axis=0)\n",
        "\n",
        "  # extract probability of each class\n",
        "  y = X[:,2]\n",
        "  _, counts = np.unique(y, return_counts=True)\n",
        "  c1_prob = counts[0]/len(y)\n",
        "  c2_prob = counts[1]/len(y)\n",
        "\n",
        "  # check if covarience matrix is invertible\n",
        "  if det(class1_cov) !=0 :\n",
        "    cov_c1_inv = inv(class1_cov)\n",
        "  else:\n",
        "    cov_c1_inv = pinv(class1_cov)\n",
        "\n",
        "  if det(class2_cov) !=0 :\n",
        "    cov_c2_inv = inv(class2_cov)\n",
        "  else:\n",
        "    cov_c2_inv = pinv(class2_cov)\n",
        "\n",
        "  # The first time I use np.array_equal(class1_cov, class2_cov) to check if cov_mat are equal \n",
        "  # but, I found that the two cov_mat are equal with a little tolenrance so I change it to \n",
        "  # np.allclose(class1_cov, class2_cov)\n",
        "  if np.allclose(class1_cov, class2_cov):\n",
        "    print(\"covariances are equals\")\n",
        "    if c1_prob == 0.5:\n",
        "      print(\"data is balanced\")\n",
        "      w_1 = np.dot(mean_vector_c1.transpose(), cov_c1_inv)\n",
        "      w_1_0 = -0.5*np.dot(np.dot(mean_vector_c1.transpose(), cov_c1_inv), mean_vector_c1)\n",
        "\n",
        "      w_2 = np.dot(mean_vector_c2.transpose(), cov_c2_inv)\n",
        "      w_2_0 = -0.5*np.dot(np.dot(mean_vector_c2.transpose(), cov_c2_inv), mean_vector_c2)\n",
        "    else:\n",
        "      print(\"data is unbalanced\")\n",
        "      w_1 = np.dot(mean_vector_c1.transpose(), cov_c1_inv)\n",
        "      w_1_0 = np.log(c1_prob)-0.5*np.dot(np.dot(mean_vector_c1.transpose(), cov_c1_inv), mean_vector_c1)\n",
        "\n",
        "      w_2 = np.dot(mean_vector_c2.transpose(), cov_c2_inv)\n",
        "      w_2_0 = np.log(c2_prob)-0.5*np.dot(np.dot(mean_vector_c2.transpose(), cov_c2_inv), mean_vector_c2)\n",
        "    return w_1, w_1_0, w_2, w_2_0\n",
        "  else:\n",
        "    print(\"General case\")\n",
        "    W_1 = -0.5 * cov_c1_inv\n",
        "    w_1 = np.dot(mean_vector_c1.transpose(), cov_c1_inv)\n",
        "    w_1_0 = np.log(c1_prob)-0.5*np.dot(np.dot(mean_vector_c1.transpose(), cov_c1_inv), mean_vector_c1)-0.5*np.log(det(class1_cov))\n",
        "\n",
        "    W_2 = -0.5 * cov_c2_inv\n",
        "    w_2 = np.dot(mean_vector_c2.transpose(), cov_c2_inv)\n",
        "    w_2_0 = np.log(c2_prob)-0.5*np.dot(np.dot(mean_vector_c2.transpose(), cov_c2_inv), mean_vector_c2)-0.5*np.log(det(class2_cov))\n",
        "    \n",
        "    return W_1, w_1, w_1_0, W_2, w_2, w_2_0"
      ],
      "execution_count": null,
      "outputs": []
    },
    {
      "cell_type": "code",
      "metadata": {
        "id": "aTHuuitWJlFr"
      },
      "source": [
        "def predict(X_test, W_bayes):\n",
        "  \"\"\"\n",
        "  this fuction return a list of prediction of the test data.\n",
        "\n",
        "  params:\n",
        "    X_test: the test data.\n",
        "    W_bayes: the coefficient of the discriminant function\n",
        "  \"\"\"\n",
        "  y_pred = np.empty(0)\n",
        "  for i in range(X_test.shape[0]):\n",
        "    if len(W_bayes) == 4:\n",
        "      # print(\"equal covariences\")\n",
        "      g1_X = np.dot(W_bayes[0].transpose(), X_test[i]) + W_bayes[1]\n",
        "      g2_X = np.dot(W_bayes[2].transpose(), X_test[i]) + W_bayes[3]\n",
        "    else:\n",
        "      # print(\"general case\")\n",
        "      g1_X = np.dot(np.dot(X_test[i].transpose(), W_bayes[0]), X_test[i]) + np.dot(W_bayes[1].transpose(), X_test[i]) + W_bayes[2]\n",
        "      g2_X = np.dot(np.dot(X_test[i].transpose(), W_bayes[3]), X_test[i]) + np.dot(W_bayes[4].transpose(), X_test[i]) + W_bayes[5]\n",
        "\n",
        "    if g1_X > g2_X:\n",
        "      y_pred = np.append(y_pred, 0)\n",
        "    else:\n",
        "      y_pred = np.append(y_pred, 1)\n",
        "  return y_pred"
      ],
      "execution_count": null,
      "outputs": []
    },
    {
      "cell_type": "markdown",
      "metadata": {
        "id": "C3POmoa-NJa4"
      },
      "source": [
        "## Bayes classifier testing "
      ]
    },
    {
      "cell_type": "markdown",
      "metadata": {
        "id": "wAwCQthSNMq4"
      },
      "source": [
        "Dataset 1 "
      ]
    },
    {
      "cell_type": "code",
      "metadata": {
        "id": "CKhSmc8eJlCx",
        "colab": {
          "base_uri": "https://localhost:8080/"
        },
        "outputId": "c8a5085e-f67d-4c7d-ed0f-4f6c0de88b16"
      },
      "source": [
        "W_bayes = trainBayes(df1_numpy)\n",
        "X_test = df1_test_numpy[:,0:2]\n",
        "y_test = df1_test_numpy[:,2]\n",
        "\n",
        "y_pred = predict(X_test, W_bayes)\n",
        "\n",
        "mis_classification = len(y_pred)-np.count_nonzero(y_pred == y_test)\n",
        "e = (mis_classification / y_test.shape[0]) * 100\n",
        "e"
      ],
      "execution_count": null,
      "outputs": [
        {
          "output_type": "stream",
          "name": "stdout",
          "text": [
            "covariances are equals\n",
            "data is balanced\n"
          ]
        },
        {
          "output_type": "execute_result",
          "data": {
            "text/plain": [
              "80.0"
            ]
          },
          "metadata": {},
          "execution_count": 19
        }
      ]
    },
    {
      "cell_type": "markdown",
      "metadata": {
        "id": "ut_-AgFqNxw8"
      },
      "source": [
        "Dataset2"
      ]
    },
    {
      "cell_type": "code",
      "metadata": {
        "id": "_qjbVj8ZJlBD",
        "colab": {
          "base_uri": "https://localhost:8080/"
        },
        "outputId": "93567b3e-274a-42a2-ede5-9b2a72e81a67"
      },
      "source": [
        "W_bayes = trainBayes(df2_numpy)\n",
        "X_test = df2_test_numpy[:,0:2]\n",
        "y_test = df2_test_numpy[:,2]\n",
        "\n",
        "y_pred = predict(X_test, W_bayes)\n",
        "\n",
        "mis_classification = len(y_pred)-np.count_nonzero(y_pred == y_test)\n",
        "e = (mis_classification / y_test.shape[0]) * 100\n",
        "e"
      ],
      "execution_count": null,
      "outputs": [
        {
          "output_type": "stream",
          "name": "stdout",
          "text": [
            "General case\n"
          ]
        },
        {
          "output_type": "execute_result",
          "data": {
            "text/plain": [
              "97.75"
            ]
          },
          "metadata": {},
          "execution_count": 20
        }
      ]
    },
    {
      "cell_type": "markdown",
      "metadata": {
        "id": "-MWXBB-mN2cv"
      },
      "source": [
        "#Evaluation of Bayes classifier using 5-fold cross-validation"
      ]
    },
    {
      "cell_type": "markdown",
      "metadata": {
        "id": "pNSc5IROQJQW"
      },
      "source": [
        "## Dataset 1 "
      ]
    },
    {
      "cell_type": "markdown",
      "metadata": {
        "id": "15sFqhnROCrE"
      },
      "source": [
        "###Combine the training set and the test set row-wise\n",
        "\n",
        "\n"
      ]
    },
    {
      "cell_type": "code",
      "metadata": {
        "id": "Br2rcoPRN4jl"
      },
      "source": [
        "df_concat = pd.concat([df1, df1_test])\n",
        "df_concat_numpy = df_concat.values\n",
        "X_train_concat = df_concat_numpy[:,0:2]\n",
        "y_train_concat = df_concat_numpy[:,2]"
      ],
      "execution_count": null,
      "outputs": []
    },
    {
      "cell_type": "markdown",
      "metadata": {
        "id": "f73oeV0XOeez"
      },
      "source": [
        "### Apply 5-fold cross validation on the first combined dataset"
      ]
    },
    {
      "cell_type": "code",
      "metadata": {
        "id": "1Uo1fMeuN4fj",
        "colab": {
          "base_uri": "https://localhost:8080/"
        },
        "outputId": "410eaa88-66f6-4289-e52d-2e86ec8f2fa5"
      },
      "source": [
        "from sklearn.model_selection import KFold\n",
        "\n",
        "k = 5\n",
        "kf = KFold(n_splits=k)\n",
        "\n",
        "res = []\n",
        "for train_index , test_index in kf.split(X_train_concat):\n",
        "    X_train_kf , X_test_kf = X_train_concat[train_index,:],X_train_concat[test_index,:]\n",
        "    y_train_kf , y_test_kf = y_train_concat[train_index] , y_train_concat[test_index]\n",
        "    \n",
        "    X_train = np.append(X_train_concat, np.reshape(y_train_concat, (len(y_train_concat),1)), axis=1)\n",
        "    W_bayes = trainBayes(X_train)\n",
        "    y_pred = predict(X_test_kf, W_bayes)\n",
        "    \n",
        "    mis_classification = len(y_pred)-np.count_nonzero(y_pred == y_test_kf)\n",
        "    e = (mis_classification / y_test_kf.shape[0]) * 100\n",
        "\n",
        "    res.append(e)\n",
        "\n",
        "avg_res = sum(res)/k\n",
        "print('Result of each fold - {}'.format(res))\n",
        "print('Avg result : {}'.format(avg_res))"
      ],
      "execution_count": null,
      "outputs": [
        {
          "output_type": "stream",
          "name": "stdout",
          "text": [
            "covariances are equals\n",
            "data is balanced\n",
            "covariances are equals\n",
            "data is balanced\n",
            "covariances are equals\n",
            "data is balanced\n",
            "covariances are equals\n",
            "data is balanced\n",
            "covariances are equals\n",
            "data is balanced\n",
            "Result of each fold - [80.0, 83.33333333333334, 86.66666666666667, 70.0, 80.0]\n",
            "Avg result : 80.0\n"
          ]
        }
      ]
    },
    {
      "cell_type": "markdown",
      "metadata": {
        "id": "W2UAYxf3QTi3"
      },
      "source": [
        "## Dataset 2"
      ]
    },
    {
      "cell_type": "code",
      "metadata": {
        "id": "ruhhpUfDQYAg"
      },
      "source": [
        "df_concat = pd.concat([df2, df2_test])\n",
        "df_concat_numpy = df_concat.values\n",
        "X_train_concat = df_concat_numpy[:,0:2]\n",
        "y_train_concat = df_concat_numpy[:,2]"
      ],
      "execution_count": null,
      "outputs": []
    },
    {
      "cell_type": "code",
      "metadata": {
        "id": "0Rl-6oFaQbFl",
        "colab": {
          "base_uri": "https://localhost:8080/"
        },
        "outputId": "9879da32-8365-47f4-f578-732055c75b47"
      },
      "source": [
        "from sklearn.model_selection import KFold\n",
        "\n",
        "k = 5\n",
        "kf = KFold(n_splits=k, random_state=None)\n",
        "\n",
        "res = []\n",
        "for train_index , test_index in kf.split(X_train_concat):\n",
        "    X_train_kf , X_test_kf = X_train_concat[train_index,:],X_train_concat[test_index,:]\n",
        "    y_train_kf , y_test_kf = y_train_concat[train_index] , y_train_concat[test_index]\n",
        "    \n",
        "    X_train = np.append(X_train_concat, np.reshape(y_train_concat, (len(y_train_concat),1)), axis=1)\n",
        "    W_bayes = trainBayes(X_train)\n",
        "    y_pred = predict(X_test_kf, W_bayes)\n",
        "    \n",
        "    mis_classification = len(y_pred)-np.count_nonzero(y_pred == y_test_kf)\n",
        "    e = (mis_classification / y_test_kf.shape[0]) * 100\n",
        "\n",
        "    res.append(e)\n",
        "\n",
        "avg_res = sum(res)/k\n",
        "print('Result of each fold - {}'.format(res))\n",
        "print('Avg result : {}'.format(avg_res))"
      ],
      "execution_count": null,
      "outputs": [
        {
          "output_type": "stream",
          "name": "stdout",
          "text": [
            "General case\n",
            "General case\n",
            "General case\n",
            "General case\n",
            "General case\n",
            "Result of each fold - [99.25, 99.0, 99.25, 99.25, 98.0]\n",
            "Avg result : 98.95\n"
          ]
        }
      ]
    },
    {
      "cell_type": "markdown",
      "metadata": {
        "id": "heuCA6hnaKs7"
      },
      "source": [
        "**Interpretation** \n",
        "\n",
        "When comparing the results of the bayes classifier using a random split of the dataset and the 5-fold cross validation, it seem like the 5-fold CV give better results."
      ]
    },
    {
      "cell_type": "markdown",
      "metadata": {
        "id": "nb6_yMVyO-k7"
      },
      "source": [
        "# Evaluation of Bayes classifier on the third Dataset"
      ]
    },
    {
      "cell_type": "code",
      "metadata": {
        "id": "JTR8ejR6N4dt"
      },
      "source": [
        "df3_numpy = df3.values\n",
        "feature1_data3 = df3_numpy[:,0]\n",
        "feature2_data3 = df3_numpy[:,1]"
      ],
      "execution_count": null,
      "outputs": []
    },
    {
      "cell_type": "code",
      "metadata": {
        "id": "ZFE22HAFN4ao",
        "colab": {
          "base_uri": "https://localhost:8080/",
          "height": 346
        },
        "outputId": "74b17535-0df8-4184-bf8a-a06068f21970"
      },
      "source": [
        "plt.scatter(feature1_data3, feature2_data3, color=['r'])\n",
        "\n",
        "plt.gca().set(title='Distribution of the third dataset', xlabel='feature 1', ylabel='feature 2')"
      ],
      "execution_count": null,
      "outputs": [
        {
          "output_type": "execute_result",
          "data": {
            "text/plain": [
              "[Text(0, 0.5, 'feature 2'),\n",
              " Text(0.5, 0, 'feature 1'),\n",
              " Text(0.5, 1.0, 'Distribution of the third dataset')]"
            ]
          },
          "metadata": {},
          "execution_count": 39
        },
        {
          "output_type": "display_data",
          "data": {
            "image/png": "[encoded data removed]",
            "text/plain": [
              "<Figure size 432x288 with 1 Axes>"
            ]
          },
          "metadata": {
            "needs_background": "light"
          }
        }
      ]
    },
    {
      "cell_type": "code",
      "metadata": {
        "id": "8dwP_GWQPQra",
        "colab": {
          "base_uri": "https://localhost:8080/"
        },
        "outputId": "4090b20f-a98a-4298-f58b-8d5f5f7ced02"
      },
      "source": [
        "W_bayes = trainBayes(df3_numpy)\n",
        "\n",
        "df3_sorted = df3_test_numpy[np.argsort(df3_test_numpy[:, 2])]\n",
        "X_test = df3_sorted[:,0:2]\n",
        "y_test = df3_sorted[:,2]\n",
        "\n",
        "y_pred = predict(X_test, W_bayes)\n",
        "\n",
        "y_test_c1 = y_test[:len(y_test)//2]\n",
        "y_test_c2 = y_test[len(y_test)//2:]\n",
        "\n",
        "y_pred_c1 = y_pred[:len(y_pred)//2]\n",
        "y_pred_c2 = y_pred[len(y_pred)//2:]\n",
        "\n",
        "mis_classification = len(y_pred)-np.count_nonzero(y_pred == y_test)\n",
        "e = (mis_classification / y_test.shape[0]) * 100\n",
        "\n",
        "mis_classification_class1 = len(y_pred_c1)-np.count_nonzero(y_pred_c1 == y_test_c1)\n",
        "mis_classification_class2 = len(y_pred_c2)-np.count_nonzero(y_pred_c2 == y_test_c2)\n",
        "\n",
        "e_c1 = (mis_classification_class1 / y_test_c1.shape[0]) * 100\n",
        "e_c2 = (mis_classification_class2 / y_test_c2.shape[0]) * 100\n",
        "print(e_c1)\n",
        "print(e_c2)"
      ],
      "execution_count": null,
      "outputs": [
        {
          "output_type": "stream",
          "name": "stdout",
          "text": [
            "General case\n",
            "98.88888888888889\n",
            "90.55555555555556\n"
          ]
        }
      ]
    }
  ]
}