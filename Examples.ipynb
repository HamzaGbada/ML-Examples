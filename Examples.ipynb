{
  "nbformat": 4,
  "nbformat_minor": 0,
  "metadata": {
    "colab": {
      "name": "Examples.ipynb",
      "provenance": [],
      "authorship_tag": "ABX9TyPtp2TTNkiYEeZ7FHr2d1qR",
      "include_colab_link": true
    },
    "kernelspec": {
      "name": "python3",
      "display_name": "Python 3"
    },
    "language_info": {
      "name": "python"
    }
  },
  "cells": [
    {
      "cell_type": "markdown",
      "metadata": {
        "id": "view-in-github",
        "colab_type": "text"
      },
      "source": [
        "<a href=\"https://colab.research.google.com/github/HamzaGbada/ML-Examples/blob/main/Examples.ipynb\" target=\"_parent\"><img src=\"https://colab.research.google.com/assets/colab-badge.svg\" alt=\"Open In Colab\"/></a>"
      ]
    },
    {
      "cell_type": "markdown",
      "metadata": {
        "id": "XCB9kjHnSSFZ"
      },
      "source": [
        "## Testing Linear Regression on data with and without fracture"
      ]
    },
    {
      "cell_type": "markdown",
      "source": [
        "In this cell we are creating a data frature example using random modue"
      ],
      "metadata": {
        "id": "uPRStdVfHFyt"
      }
    },
    {
      "cell_type": "code",
      "metadata": {
        "id": "j6DcyA-iRQKg"
      },
      "source": [
        "import pandas as pd\n",
        "import numpy as np\n",
        "import matplotlib.pyplot as plt\n",
        " \n",
        " \n",
        "# defining the mean\n",
        "mu = 0.5\n",
        "# defining the standard deviation\n",
        "sigma = 0.1\n",
        " \n",
        "# The random module uses the seed value as a base\n",
        "# to generate a random number. If seed value is not\n",
        "# present, it takes the system’s current time.\n",
        "np.random.seed(0)\n",
        " \n",
        "# define the train data\n",
        "X_train = np.random.normal(mu, sigma, (200, 1))\n",
        "y_train = np.random.normal(mu , sigma * 2, (200, 1))\n",
        " \n",
        "# define the test data\n",
        "X_test = np.random.normal(mu * 2, sigma * 3, (100, 1))\n",
        "y_test = np.random.normal(mu , sigma * 2, (100, 1))"
      ],
      "execution_count": null,
      "outputs": []
    },
    {
      "cell_type": "code",
      "metadata": {
        "colab": {
          "base_uri": "https://localhost:8080/",
          "height": 298
        },
        "id": "f--Q-UHhS0IC",
        "outputId": "1c339e19-894b-4bdd-fab3-a0d21bdb51d3"
      },
      "source": [
        "plt.hist(X_train, alpha=0.5, color= 'r')\n",
        "plt.hist(X_test, alpha=0.5, color= 'b')\n",
        "plt.gca().set(title='Histograms of the train and test data (a dataset fracture)')"
      ],
      "execution_count": null,
      "outputs": [
        {
          "output_type": "execute_result",
          "data": {
            "text/plain": [
              "[Text(0.5, 1.0, 'Histograms of the train and test data')]"
            ]
          },
          "metadata": {},
          "execution_count": 3
        },
        {
          "output_type": "display_data",
          "data": {
            "image/png": "[encoded data removed]",
            "text/plain": [
              "<Figure size 432x288 with 1 Axes>"
            ]
          },
          "metadata": {
            "needs_background": "light"
          }
        }
      ]
    },
    {
      "cell_type": "markdown",
      "metadata": {
        "id": "JQNfDhAEdykU"
      },
      "source": [
        "Linear Regression Model"
      ]
    },
    {
      "cell_type": "code",
      "metadata": {
        "colab": {
          "base_uri": "https://localhost:8080/"
        },
        "id": "WHX1QgU_S3eq",
        "outputId": "bf9edf3d-7019-4661-944e-bb82aaa7d47e"
      },
      "source": [
        "from sklearn.linear_model import LinearRegression\n",
        "regressor = LinearRegression()\n",
        "regressor.fit(X_train, y_train)"
      ],
      "execution_count": null,
      "outputs": [
        {
          "output_type": "execute_result",
          "data": {
            "text/plain": [
              "LinearRegression(copy_X=True, fit_intercept=True, n_jobs=None, normalize=False)"
            ]
          },
          "metadata": {},
          "execution_count": 4
        }
      ]
    },
    {
      "cell_type": "markdown",
      "source": [
        "Testing using the Mean Squared Error (MSE)"
      ],
      "metadata": {
        "id": "mZilOXe8HS61"
      }
    },
    {
      "cell_type": "code",
      "metadata": {
        "colab": {
          "base_uri": "https://localhost:8080/"
        },
        "id": "pzMWf4pETADL",
        "outputId": "3f7d0a47-85f1-40fa-8c64-464ccee9026b"
      },
      "source": [
        "y_pred = regressor.predict(X_test)\n",
        "from sklearn import metrics\n",
        "print('Mean Squared Error:', metrics.mean_squared_error(y_test, y_pred))"
      ],
      "execution_count": null,
      "outputs": [
        {
          "output_type": "stream",
          "name": "stdout",
          "text": [
            "Mean Squared Error: 0.048528963795782545\n"
          ]
        }
      ]
    },
    {
      "cell_type": "markdown",
      "metadata": {
        "id": "eDs9y3bwTFlp"
      },
      "source": [
        "## Example without data fracture"
      ]
    },
    {
      "cell_type": "code",
      "metadata": {
        "id": "SlbVvdl0TNDz"
      },
      "source": [
        "import pandas as pd\n",
        "import numpy as np\n",
        "import matplotlib.pyplot as plt\n",
        " \n",
        " \n",
        "# defining the mean\n",
        "mu = 0.4\n",
        "# defining the standard deviation\n",
        "sigma = 0.2\n",
        " \n",
        "# The random module uses the seed value as a base\n",
        "# to generate a random number. If seed value is not\n",
        "# present, it takes the system’s current time.\n",
        "np.random.seed(0)\n",
        " \n",
        "# define the train data\n",
        "X_train = np.random.normal(mu, sigma, (200, 1))\n",
        "y_train = np.random.normal(mu , sigma * 2, (200, 1))\n",
        " \n",
        "# define the test data\n",
        "X_test = np.random.normal(mu, sigma, (100, 1))\n",
        "y_test = np.random.normal(mu , sigma * 2, (100, 1))"
      ],
      "execution_count": null,
      "outputs": []
    },
    {
      "cell_type": "code",
      "metadata": {
        "colab": {
          "base_uri": "https://localhost:8080/",
          "height": 298
        },
        "id": "09fIOX3CTQEw",
        "outputId": "f1896f66-41e6-43ad-ad70-25f2e60731ba"
      },
      "source": [
        "plt.hist(X_train, alpha=0.5, color= 'r')\n",
        "plt.hist(X_test, alpha=0.5, color= 'b')\n",
        "plt.gca().set(title='Histograms of the train and test data (a dataset without fracture)')"
      ],
      "execution_count": null,
      "outputs": [
        {
          "output_type": "execute_result",
          "data": {
            "text/plain": [
              "[Text(0.5, 1.0, 'Histograms of the train and test data (a dataset without fracture)')]"
            ]
          },
          "metadata": {},
          "execution_count": 15
        },
        {
          "output_type": "display_data",
          "data": {
            "image/png": "[encoded data removed]",
            "text/plain": [
              "<Figure size 432x288 with 1 Axes>"
            ]
          },
          "metadata": {
            "needs_background": "light"
          }
        }
      ]
    },
    {
      "cell_type": "code",
      "metadata": {
        "colab": {
          "base_uri": "https://localhost:8080/"
        },
        "id": "dlSL3C_DTWVa",
        "outputId": "23f4b346-828e-4bfe-89a7-ceabc4f8133f"
      },
      "source": [
        "from sklearn.linear_model import LinearRegression\n",
        "regressor = LinearRegression()\n",
        "regressor.fit(X_train, y_train)"
      ],
      "execution_count": null,
      "outputs": [
        {
          "output_type": "execute_result",
          "data": {
            "text/plain": [
              "LinearRegression(copy_X=True, fit_intercept=True, n_jobs=None, normalize=False)"
            ]
          },
          "metadata": {},
          "execution_count": 8
        }
      ]
    },
    {
      "cell_type": "code",
      "metadata": {
        "colab": {
          "base_uri": "https://localhost:8080/"
        },
        "id": "bX7l4jqsTZP9",
        "outputId": "c4d84ebe-0a03-4ec6-a818-aa70e85b1a5b"
      },
      "source": [
        "y_pred = regressor.predict(X_test)\n",
        "from sklearn import metrics\n",
        "print('Mean Squared Error:', metrics.mean_squared_error(y_test, y_pred))"
      ],
      "execution_count": null,
      "outputs": [
        {
          "output_type": "stream",
          "name": "stdout",
          "text": [
            "Mean Squared Error: 0.16485978935841214\n"
          ]
        }
      ]
    },
    {
      "cell_type": "markdown",
      "metadata": {
        "id": "xpLX2jIHUEzW"
      },
      "source": [
        "\n",
        "\n",
        "# An implementation of PCA (Principal Component Analysis ) using Numpy"
      ]
    },
    {
      "cell_type": "code",
      "metadata": {
        "colab": {
          "base_uri": "https://localhost:8080/"
        },
        "id": "jlF1wJswTfkR",
        "outputId": "aba27f84-353a-4604-9ffe-a39887af0d9f"
      },
      "source": [
        "import numpy as np\n",
        "from numpy import linalg as LA\n",
        "from sklearn import datasets\n",
        "\n",
        "def PCA(X, k):\n",
        "  \n",
        "  mean_vector = np.mean(X, axis=0) \n",
        "  # Data centring\n",
        "  X_centred = X - mean_vector\n",
        "\n",
        "  # Compute covariance\n",
        "  X_cov = np.cov(X_centred, rowvar = False)\n",
        "\n",
        "  # Compute eigenvalues and eigenvector\n",
        "  eigenvalues, eigenvector = LA.eigh(X_cov)\n",
        "\n",
        "  # Sort eigenvector by their eigenvalue (from largest to the smallest)\n",
        "  # np.argsort return an array contains indice of element in the original array, after sorting it\n",
        "  sorted_index = np.argsort(eigenvalues)[::-1]\n",
        "  sorted_eigenvalue = eigenvalues[sorted_index]\n",
        "  sorted_eigenvectors = eigenvector[:,sorted_index]\n",
        "\n",
        "  # Select top k eigenvector as principale component to represent the data in a low dimensinal space (Dimensinality Reduction)\n",
        "  eigenvector_subset = sorted_eigenvectors[:,0:k]\n",
        "\n",
        "  # Transform the data using top k eigenvector into te space\n",
        "  T = np.dot(X_centred, eigenvector_subset)\n",
        "  return T\n",
        "\n",
        "# load dataset\n",
        "df1 = pd.read_csv(\"train1.csv\") \n",
        "df1_numpy = df1.values\n",
        "X = df1_numpy[:,0:2]\n",
        "y = df1_numpy[:,2]\n",
        "\n",
        "k_best = 2\n",
        "T = PCA(X,k_best)\n",
        "y.shape"
      ],
      "execution_count": null,
      "outputs": [
        {
          "output_type": "execute_result",
          "data": {
            "text/plain": [
              "(200,)"
            ]
          },
          "metadata": {},
          "execution_count": 10
        }
      ]
    },
    {
      "cell_type": "markdown",
      "source": [
        "We test our PCA on 5-fold Cross Validation and we print three type of metrics (Accuracy, Sensetivity and Specificity)"
      ],
      "metadata": {
        "id": "YI219dXHHxxw"
      }
    },
    {
      "cell_type": "code",
      "metadata": {
        "colab": {
          "base_uri": "https://localhost:8080/"
        },
        "id": "Ma0srsawUuM9",
        "outputId": "91872bed-0c35-45b4-f5ff-b6c2988b4fee"
      },
      "source": [
        "from sklearn.model_selection import KFold\n",
        "from sklearn.svm import SVC\n",
        "from sklearn import metrics\n",
        "\n",
        "k = 5\n",
        "kf = KFold(n_splits=k)\n",
        "model = SVC(kernel=\"linear\")\n",
        "acc_score = []\n",
        "sens_score = []\n",
        "spec_score = []\n",
        "for train_index , test_index in kf.split(X):\n",
        "    \n",
        "    X_train_kf , X_test_kf = X[train_index,:], X[test_index,:]\n",
        "    y_train_kf , y_test_kf = y[train_index] , y[test_index]\n",
        "    pca_train = PCA(X_train_kf, 2)\n",
        "    pca_test = PCA(X_test_kf, 2)\n",
        "\n",
        "    model.fit(pca_train,y_train_kf)\n",
        "    pred_values = model.predict(pca_test)\n",
        "\n",
        "    acc = metrics.accuracy_score(pred_values , y_test_kf)\n",
        "    sensetivity = metrics.recall_score(pred_values , y_test_kf)\n",
        "    specificity = metrics.precision_score(pred_values , y_test_kf)\n",
        "    acc_score.append(acc)\n",
        "    sens_score.append(sensetivity)\n",
        "    spec_score.append(specificity)\n",
        "\n",
        "avg_acc_score = sum(acc_score)/k\n",
        "print('accuracy each fold - {}'.format(acc_score))\n",
        "print('Avg accuracy : {}'.format(avg_acc_score))\n",
        "avg_sens_score = sum(sens_score)/k\n",
        "print('sensetivity each fold - {}'.format(sens_score))\n",
        "print('Avg sensetivity : {}'.format(avg_sens_score))\n",
        "avg_spec_score = sum(spec_score)/k\n",
        "print('specificity each fold - {}'.format(spec_score))\n",
        "print('Avg specificity : {}'.format(avg_spec_score))"
      ],
      "execution_count": null,
      "outputs": [
        {
          "output_type": "stream",
          "name": "stdout",
          "text": [
            "accuracy each fold - [0.725, 0.8, 0.725, 0.825, 0.625]\n",
            "Avg accuracy : 0.74\n",
            "sensetivity each fold - [0.8823529411764706, 0.8947368421052632, 0.6190476190476191, 0.6956521739130435, 0.65]\n",
            "Avg sensetivity : 0.7483579152484793\n",
            "specificity each fold - [0.625, 0.7391304347826086, 0.8125, 1.0, 0.6190476190476191]\n",
            "Avg specificity : 0.7591356107660455\n"
          ]
        }
      ]
    },
    {
      "cell_type": "code",
      "metadata": {
        "colab": {
          "base_uri": "https://localhost:8080/",
          "height": 298
        },
        "id": "RMisAMG2g6YK",
        "outputId": "9d498c0c-4931-4871-fe17-836145ce4a49"
      },
      "source": [
        "plt.plot(acc_score, label=\"Accuracy\")\n",
        "plt.plot(sens_score, label=\"sensitivity\")\n",
        "plt.plot(spec_score, label=\"specificity\")\n",
        "plt.legend(fancybox=True, framealpha=1, shadow=True, borderpad=1)\n",
        "plt.gca().set(title='Metrics evolution for 5-fold CV test ')"
      ],
      "execution_count": null,
      "outputs": [
        {
          "output_type": "execute_result",
          "data": {
            "text/plain": [
              "[Text(0.5, 1.0, 'Metrics evolution for 5-fold CV test ')]"
            ]
          },
          "metadata": {},
          "execution_count": 25
        },
        {
          "output_type": "display_data",
          "data": {
            "image/png": "[encoded data removed]",
            "text/plain": [
              "<Figure size 432x288 with 1 Axes>"
            ]
          },
          "metadata": {
            "needs_background": "light"
          }
        }
      ]
    },
    {
      "cell_type": "code",
      "metadata": {
        "id": "r7FIc6j_gmDg"
      },
      "source": [
        ""
      ],
      "execution_count": null,
      "outputs": []
    }
  ]
}